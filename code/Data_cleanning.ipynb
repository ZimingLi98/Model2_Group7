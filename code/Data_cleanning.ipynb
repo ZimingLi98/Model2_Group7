{
 "cells": [
  {
   "cell_type": "markdown",
   "id": "9c488ccf",
   "metadata": {},
   "source": [
    "## Preview row_data\n",
    "View data types, statistical summary\n",
    "\n",
    "Check for missing values, duplicate values"
   ]
  },
  {
   "cell_type": "code",
   "execution_count": 2,
   "id": "a7449148",
   "metadata": {},
   "outputs": [
    {
     "name": "stdout",
     "output_type": "stream",
     "text": [
      "<class 'pandas.core.frame.DataFrame'>\n",
      "RangeIndex: 252 entries, 0 to 251\n",
      "Data columns (total 17 columns):\n",
      " #   Column     Non-Null Count  Dtype  \n",
      "---  ------     --------------  -----  \n",
      " 0   IDNO       252 non-null    int64  \n",
      " 1   BODYFAT    252 non-null    float64\n",
      " 2   DENSITY    252 non-null    float64\n",
      " 3   AGE        252 non-null    int64  \n",
      " 4   WEIGHT     252 non-null    float64\n",
      " 5   HEIGHT     252 non-null    float64\n",
      " 6   ADIPOSITY  252 non-null    float64\n",
      " 7   NECK       252 non-null    float64\n",
      " 8   CHEST      252 non-null    float64\n",
      " 9   ABDOMEN    252 non-null    float64\n",
      " 10  HIP        252 non-null    float64\n",
      " 11  THIGH      252 non-null    float64\n",
      " 12  KNEE       252 non-null    float64\n",
      " 13  ANKLE      252 non-null    float64\n",
      " 14  BICEPS     252 non-null    float64\n",
      " 15  FOREARM    252 non-null    float64\n",
      " 16  WRIST      252 non-null    float64\n",
      "dtypes: float64(15), int64(2)\n",
      "memory usage: 33.6 KB\n",
      "None\n",
      "Number of duplicate rows = 0\n",
      "IDNO         0\n",
      "BODYFAT      0\n",
      "DENSITY      0\n",
      "AGE          0\n",
      "WEIGHT       0\n",
      "HEIGHT       0\n",
      "ADIPOSITY    0\n",
      "NECK         0\n",
      "CHEST        0\n",
      "ABDOMEN      0\n",
      "HIP          0\n",
      "THIGH        0\n",
      "KNEE         0\n",
      "ANKLE        0\n",
      "BICEPS       0\n",
      "FOREARM      0\n",
      "WRIST        0\n",
      "dtype: int64\n",
      "             IDNO     BODYFAT     DENSITY         AGE      WEIGHT      HEIGHT  \\\n",
      "count  252.000000  252.000000  252.000000  252.000000  252.000000  252.000000   \n",
      "mean   126.500000   18.938492    1.055574   44.884921  178.924405   70.148810   \n",
      "std     72.890329    7.750856    0.019031   12.602040   29.389160    3.662856   \n",
      "min      1.000000    0.000000    0.995000   22.000000  118.500000   29.500000   \n",
      "25%     63.750000   12.800000    1.041400   35.750000  159.000000   68.250000   \n",
      "50%    126.500000   19.000000    1.054900   43.000000  176.500000   70.000000   \n",
      "75%    189.250000   24.600000    1.070400   54.000000  197.000000   72.250000   \n",
      "max    252.000000   45.100000    1.108900   81.000000  363.150000   77.750000   \n",
      "\n",
      "        ADIPOSITY        NECK       CHEST     ABDOMEN         HIP       THIGH  \\\n",
      "count  252.000000  252.000000  252.000000  252.000000  252.000000  252.000000   \n",
      "mean    25.436905   37.992063  100.824206   92.555952   99.904762   59.405952   \n",
      "std      3.648111    2.430913    8.430476   10.783077    7.164058    5.249952   \n",
      "min     18.100000   31.100000   79.300000   69.400000   85.000000   47.200000   \n",
      "25%     23.100000   36.400000   94.350000   84.575000   95.500000   56.000000   \n",
      "50%     25.050000   38.000000   99.650000   90.950000   99.300000   59.000000   \n",
      "75%     27.325000   39.425000  105.375000   99.325000  103.525000   62.350000   \n",
      "max     48.900000   51.200000  136.200000  148.100000  147.700000   87.300000   \n",
      "\n",
      "             KNEE       ANKLE      BICEPS     FOREARM       WRIST  \n",
      "count  252.000000  252.000000  252.000000  252.000000  252.000000  \n",
      "mean    38.590476   23.102381   32.273413   28.663889   18.229762  \n",
      "std      2.411805    1.694893    3.021274    2.020691    0.933585  \n",
      "min     33.000000   19.100000   24.800000   21.000000   15.800000  \n",
      "25%     36.975000   22.000000   30.200000   27.300000   17.600000  \n",
      "50%     38.500000   22.800000   32.050000   28.700000   18.300000  \n",
      "75%     39.925000   24.000000   34.325000   30.000000   18.800000  \n",
      "max     49.100000   33.900000   45.000000   34.900000   21.400000  \n"
     ]
    }
   ],
   "source": [
    "import pandas as pd\n",
    "\n",
    "data = pd.read_csv('../data/row_data/BodyFat.csv')\n",
    "print(data.info())\n",
    "\n",
    "duplicates = data.duplicated().sum()\n",
    "print(f\"Number of duplicate rows = {duplicates}\")\n",
    "\n",
    "missing_values = data.isnull().sum()\n",
    "print(missing_values)\n",
    "\n",
    "statistics_summary = data.describe()\n",
    "print(statistics_summary)"
   ]
  },
  {
   "cell_type": "markdown",
   "id": "4d681031",
   "metadata": {},
   "source": [
    "## Check outliers\n",
    "Use the IQR method to determine low_bound and upper_bound. Calculate the first quartile (`Q1`) and third quartile (`Q3`) of the column.Then calculate the IQR, which is `Q3 - Q1`. Then calculate the lower bound (`lower_bound`) and upper bound (`upper_bound`) through IQR."
   ]
  },
  {
   "cell_type": "code",
   "execution_count": 4,
   "id": "69cf5c16",
   "metadata": {},
   "outputs": [
    {
     "name": "stdout",
     "output_type": "stream",
     "text": [
      "IQR Bounds and Outliers for Each Column:\n",
      "\n",
      "Column 'IDNO':\n",
      "Lower Bound: -124.5\n",
      "Upper Bound: 377.5\n",
      "Outliers:\n",
      "No outliers detected.\n",
      "--------------------------------------------------\n",
      "Column 'BODYFAT':\n",
      "Lower Bound: -4.900000000000002\n",
      "Upper Bound: 42.300000000000004\n",
      "Outliers:\n",
      "215    45.1\n",
      "--------------------------------------------------\n",
      "Column 'DENSITY':\n",
      "Lower Bound: 0.9979000000000002\n",
      "Upper Bound: 1.1139\n",
      "Outliers:\n",
      "215    0.995\n",
      "--------------------------------------------------\n",
      "Column 'AGE':\n",
      "Lower Bound: 8.375\n",
      "Upper Bound: 81.375\n",
      "Outliers:\n",
      "No outliers detected.\n",
      "--------------------------------------------------\n",
      "Column 'WEIGHT':\n",
      "Lower Bound: 102.0\n",
      "Upper Bound: 254.0\n",
      "Outliers:\n",
      "38    363.15\n",
      "40    262.75\n",
      "--------------------------------------------------\n",
      "Column 'HEIGHT':\n",
      "Lower Bound: 62.25\n",
      "Upper Bound: 78.25\n",
      "Outliers:\n",
      "41    29.5\n",
      "--------------------------------------------------\n",
      "Column 'ADIPOSITY':\n",
      "Lower Bound: 16.762500000000003\n",
      "Upper Bound: 33.662499999999994\n",
      "Outliers:\n",
      "38     48.9\n",
      "40     39.1\n",
      "215    37.6\n",
      "241    33.9\n",
      "--------------------------------------------------\n",
      "Column 'NECK':\n",
      "Lower Bound: 31.8625\n",
      "Upper Bound: 43.96249999999999\n",
      "Outliers:\n",
      "38     51.2\n",
      "44     31.5\n",
      "105    31.1\n",
      "--------------------------------------------------\n",
      "Column 'CHEST':\n",
      "Lower Bound: 77.81250000000003\n",
      "Upper Bound: 121.9125\n",
      "Outliers:\n",
      "38    136.2\n",
      "40    128.3\n",
      "--------------------------------------------------\n",
      "Column 'ABDOMEN':\n",
      "Lower Bound: 62.44999999999997\n",
      "Upper Bound: 121.45000000000002\n",
      "Outliers:\n",
      "38     148.1\n",
      "40     126.2\n",
      "215    122.1\n",
      "--------------------------------------------------\n",
      "Column 'HIP':\n",
      "Lower Bound: 83.46249999999999\n",
      "Upper Bound: 115.56250000000001\n",
      "Outliers:\n",
      "34    116.1\n",
      "38    147.7\n",
      "40    125.6\n",
      "--------------------------------------------------\n",
      "Column 'THIGH':\n",
      "Lower Bound: 46.47500000000001\n",
      "Upper Bound: 71.87499999999999\n",
      "Outliers:\n",
      "38     87.3\n",
      "40     72.5\n",
      "151    72.9\n",
      "168    74.4\n",
      "--------------------------------------------------\n",
      "Column 'KNEE':\n",
      "Lower Bound: 32.55000000000001\n",
      "Upper Bound: 44.349999999999994\n",
      "Outliers:\n",
      "38     49.1\n",
      "191    45.0\n",
      "243    46.0\n",
      "--------------------------------------------------\n",
      "Column 'ANKLE':\n",
      "Lower Bound: 19.0\n",
      "Upper Bound: 27.0\n",
      "Outliers:\n",
      "30    33.9\n",
      "38    29.6\n",
      "85    33.7\n",
      "--------------------------------------------------\n",
      "Column 'BICEPS':\n",
      "Lower Bound: 24.012500000000003\n",
      "Upper Bound: 40.51249999999999\n",
      "Outliers:\n",
      "38    45.0\n",
      "--------------------------------------------------\n",
      "Column 'FOREARM':\n",
      "Lower Bound: 23.25\n",
      "Upper Bound: 34.05\n",
      "Outliers:\n",
      "44     23.1\n",
      "158    34.9\n",
      "174    21.0\n",
      "205    23.1\n",
      "225    22.0\n",
      "--------------------------------------------------\n",
      "Column 'WRIST':\n",
      "Lower Bound: 15.800000000000002\n",
      "Upper Bound: 20.6\n",
      "Outliers:\n",
      "38     21.4\n",
      "40     21.4\n",
      "225    15.8\n",
      "251    20.9\n",
      "--------------------------------------------------\n"
     ]
    }
   ],
   "source": [
    "def calculate_iqr_bounds(dataframe, column):\n",
    "    Q1 = dataframe[column].quantile(0.25)\n",
    "    Q3 = dataframe[column].quantile(0.75)\n",
    "    IQR = Q3 - Q1\n",
    "\n",
    "    lower_bound = Q1 - 1.5 * IQR\n",
    "    upper_bound = Q3 + 1.5 * IQR\n",
    "\n",
    "    return lower_bound, upper_bound\n",
    "\n",
    "bounds_data = {}\n",
    "for column in data.columns:\n",
    "    lower, upper = calculate_iqr_bounds(data, column)\n",
    "    bounds_data[column] = (lower, upper)\n",
    "\n",
    "print(\"IQR Bounds and Outliers for Each Column:\\n\")\n",
    "for column, (lower, upper) in bounds_data.items():\n",
    "    outliers = data[(data[column] < lower) | (data[column] > upper)][column]\n",
    "    \n",
    "    print(f\"Column '{column}':\")\n",
    "    print(f\"Lower Bound: {lower}\")\n",
    "    print(f\"Upper Bound: {upper}\")\n",
    "    print(\"Outliers:\")\n",
    "    if not outliers.empty:\n",
    "        print(outliers.to_string())\n",
    "    else:\n",
    "        print(\"No outliers detected.\")\n",
    "    print(\"-\" * 50)\n"
   ]
  },
  {
   "cell_type": "markdown",
   "id": "18d47209",
   "metadata": {},
   "source": [
    "Since the lower_bound of the \"BODYFAT\" column calculated by IQR is negative, this does not make sense for us to find outliers.\n",
    "We searched for relevant literature and found that the lowest body fat rate is actually 2%-5% (American Council on Exercise (ACE)), so we changed the lower_bound in this column to 2%."
   ]
  },
  {
   "cell_type": "code",
   "execution_count": 5,
   "id": "75486bd1",
   "metadata": {},
   "outputs": [
    {
     "name": "stdout",
     "output_type": "stream",
     "text": [
      "     IDNO  BODYFAT  DENSITY  AGE  WEIGHT  HEIGHT  ADIPOSITY  NECK  CHEST  \\\n",
      "171   172      1.9   1.0983   35  125.75    65.5       20.6  34.0   90.8   \n",
      "181   182      0.0   1.1089   40  118.50    68.0       18.1  33.8   79.3   \n",
      "215   216     45.1   0.9950   51  219.00    64.0       37.6  41.2  119.8   \n",
      "\n",
      "     ABDOMEN    HIP  THIGH  KNEE  ANKLE  BICEPS  FOREARM  WRIST  \n",
      "171     75.0   89.2   50.0  34.8   22.0    24.8     25.9   16.9  \n",
      "181     69.4   85.0   47.2  33.5   20.2    27.7     24.6   16.5  \n",
      "215    122.1  112.8   62.5  36.9   23.6    34.7     29.1   18.4  \n"
     ]
    }
   ],
   "source": [
    "abnormal_bodyfat_values = data[(data['BODYFAT'] <= 2)| (data['BODYFAT'] >= 42.3)]\n",
    "print(abnormal_bodyfat_values)"
   ]
  },
  {
   "cell_type": "markdown",
   "id": "80827709",
   "metadata": {},
   "source": [
    "In order to check whether it is an input error, we use the formula\n",
    "\n",
    "$ Percentage of Body Fat (i.e. 100*B) = 495/D - 450 $\n",
    "\n",
    "to recalculated separately for each outlier, and the results were 0.69, -3.611, and 47.48 respectively.\n",
    "So we ruled out the possibility of input anomalies and decided to delete them."
   ]
  },
  {
   "cell_type": "code",
   "execution_count": 6,
   "id": "1c8949bf",
   "metadata": {},
   "outputs": [],
   "source": [
    "data = data[(data['BODYFAT'] != 0.0) & (data['BODYFAT'] != 45.1) & (data['BODYFAT'] != 1.9)]"
   ]
  },
  {
   "cell_type": "markdown",
   "id": "2d14655d",
   "metadata": {},
   "source": [
    "In addition to 'BODYFAT' we also noticed the outlier value of 29.5 in 'HEIGHT'."
   ]
  },
  {
   "cell_type": "code",
   "execution_count": 10,
   "id": "80226232",
   "metadata": {},
   "outputs": [
    {
     "name": "stdout",
     "output_type": "stream",
     "text": [
      "    IDNO  BODYFAT  DENSITY  AGE  WEIGHT  HEIGHT  ADIPOSITY  NECK  CHEST  \\\n",
      "41    42     31.7    1.025   44   205.0    29.5       29.9  36.6  106.0   \n",
      "\n",
      "    ABDOMEN    HIP  THIGH  KNEE  ANKLE  BICEPS  FOREARM  WRIST  \n",
      "41    104.3  115.5   70.6  42.5   23.7    33.6     28.7   17.4  \n"
     ]
    }
   ],
   "source": [
    "abnormal_height_values = data[(data['HEIGHT'] == 29.5)]\n",
    "print(abnormal_height_values)"
   ]
  },
  {
   "cell_type": "markdown",
   "id": "a3a012b9",
   "metadata": {},
   "source": [
    "For this abnormal value, we also verified whether it was an input abnormality.\n",
    "According to the formula\n",
    "\n",
    "$ BMI(ADIPOSITY) = \\frac{weight_{lbs} \\times 703 }{height_{inch}} $\n",
    "\n",
    "Substitute $ bmi = 29.9 $ $ weight = 205.0 (lbs)$ to get $ height = 69.45 (inches) $.\n",
    "So there was a possibility of a typo in this outlier, and we decided to replace it."
   ]
  },
  {
   "cell_type": "code",
   "execution_count": 12,
   "id": "f9630e15",
   "metadata": {},
   "outputs": [],
   "source": [
    "data.loc[data['HEIGHT'] == 29.5, 'HEIGHT'] = 69.45"
   ]
  },
  {
   "cell_type": "markdown",
   "id": "9696eccb",
   "metadata": {},
   "source": [
    "Delete the column of 'IDNO'"
   ]
  },
  {
   "cell_type": "code",
   "execution_count": 15,
   "id": "6c8361c7",
   "metadata": {},
   "outputs": [],
   "source": [
    "data.drop('IDNO', axis=1, inplace=True)"
   ]
  },
  {
   "cell_type": "markdown",
   "id": "ac4f0bd4",
   "metadata": {},
   "source": [
    "Output cleaned dataset and check"
   ]
  },
  {
   "cell_type": "code",
   "execution_count": 16,
   "id": "d429fc69",
   "metadata": {},
   "outputs": [],
   "source": [
    "data.to_csv('../data/cleaned_data/data_cleaned.csv', index=False)"
   ]
  },
  {
   "cell_type": "code",
   "execution_count": 17,
   "id": "79d868f0",
   "metadata": {},
   "outputs": [
    {
     "name": "stdout",
     "output_type": "stream",
     "text": [
      "<class 'pandas.core.frame.DataFrame'>\n",
      "RangeIndex: 249 entries, 0 to 248\n",
      "Data columns (total 16 columns):\n",
      " #   Column     Non-Null Count  Dtype  \n",
      "---  ------     --------------  -----  \n",
      " 0   BODYFAT    249 non-null    float64\n",
      " 1   DENSITY    249 non-null    float64\n",
      " 2   AGE        249 non-null    int64  \n",
      " 3   WEIGHT     249 non-null    float64\n",
      " 4   HEIGHT     249 non-null    float64\n",
      " 5   ADIPOSITY  249 non-null    float64\n",
      " 6   NECK       249 non-null    float64\n",
      " 7   CHEST      249 non-null    float64\n",
      " 8   ABDOMEN    249 non-null    float64\n",
      " 9   HIP        249 non-null    float64\n",
      " 10  THIGH      249 non-null    float64\n",
      " 11  KNEE       249 non-null    float64\n",
      " 12  ANKLE      249 non-null    float64\n",
      " 13  BICEPS     249 non-null    float64\n",
      " 14  FOREARM    249 non-null    float64\n",
      " 15  WRIST      249 non-null    float64\n",
      "dtypes: float64(15), int64(1)\n",
      "memory usage: 31.2 KB\n",
      "None\n",
      "          BODYFAT     DENSITY         AGE      WEIGHT      HEIGHT   ADIPOSITY  \\\n",
      "count  249.000000  249.000000  249.000000  249.000000  249.000000  249.000000   \n",
      "mean    18.977912    1.055431   44.919679  179.219679   70.361245   25.436948   \n",
      "std      7.444750    0.018246   12.652679   29.008342    2.571896    3.544259   \n",
      "min      4.100000    1.010100   22.000000  125.000000   64.000000   19.100000   \n",
      "25%     13.200000    1.041400   36.000000  159.250000   68.500000   23.100000   \n",
      "50%     19.000000    1.054900   43.000000  176.750000   70.250000   25.100000   \n",
      "75%     24.600000    1.070300   54.000000  197.000000   72.250000   27.300000   \n",
      "max     38.200000    1.099100   81.000000  363.150000   77.750000   48.900000   \n",
      "\n",
      "             NECK       CHEST     ABDOMEN         HIP       THIGH        KNEE  \\\n",
      "count  249.000000  249.000000  249.000000  249.000000  249.000000  249.000000   \n",
      "mean    38.012048  100.874699   92.600803   99.955823   59.480321   38.632932   \n",
      "std      2.409109    8.258625   10.524012    7.064956    5.185920    2.389856   \n",
      "min     31.100000   83.400000   70.400000   85.300000   49.300000   33.000000   \n",
      "25%     36.400000   94.600000   85.200000   95.600000   56.100000   37.100000   \n",
      "50%     38.000000   99.700000   91.000000   99.300000   59.000000   38.500000   \n",
      "75%     39.400000  105.300000   99.200000  103.500000   62.300000   40.000000   \n",
      "max     51.200000  136.200000  148.100000  147.700000   87.300000   49.100000   \n",
      "\n",
      "            ANKLE      BICEPS     FOREARM       WRIST  \n",
      "count  249.000000  249.000000  249.000000  249.000000  \n",
      "mean    23.116466   32.312048   28.689558   18.241365  \n",
      "std      1.693325    2.983911    2.008423    0.928804  \n",
      "min     19.100000   25.300000   21.000000   15.800000  \n",
      "25%     22.000000   30.300000   27.300000   17.600000  \n",
      "50%     22.800000   32.100000   28.700000   18.300000  \n",
      "75%     24.000000   34.300000   30.000000   18.800000  \n",
      "max     33.900000   45.000000   34.900000   21.400000  \n"
     ]
    }
   ],
   "source": [
    "data_cleaned = pd.read_csv('../data/cleaned_data/data_cleaned.csv')\n",
    "print(data_cleaned.info())\n",
    "print(data_cleaned.describe())"
   ]
  },
  {
   "cell_type": "code",
   "execution_count": null,
   "id": "80752e91",
   "metadata": {},
   "outputs": [],
   "source": []
  }
 ],
 "metadata": {
  "kernelspec": {
   "display_name": "Python 3",
   "language": "python",
   "name": "python3"
  },
  "language_info": {
   "codemirror_mode": {
    "name": "ipython",
    "version": 3
   },
   "file_extension": ".py",
   "mimetype": "text/x-python",
   "name": "python",
   "nbconvert_exporter": "python",
   "pygments_lexer": "ipython3",
   "version": "3.8.8"
  }
 },
 "nbformat": 4,
 "nbformat_minor": 5
}
